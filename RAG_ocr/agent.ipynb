{
 "cells": [
  {
   "cell_type": "code",
   "execution_count": null,
   "id": "259ce5bc",
   "metadata": {},
   "outputs": [],
   "source": [
    "#Handling scanned PDFs\n",
    "import os\n",
    "from dotenv import load_dotenv\n",
    "\n",
    "load_dotenv()\n",
    "os.environ['GOOGLE_API_KEY']=os.getenv(\"GEMINI_API_KEY\")\n",
    "\n",
    "import shutil\n",
    "poppler_bin = r\"C:\\Program Files\\poppler-25.07.0\\Library\\bin\"\n",
    "os.environ[\"PATH\"] = poppler_bin + os.pathsep + os.environ.get(\"PATH\", \"\")\n",
    "# print(\"pdfinfo:\", shutil.which(\"pdfinfo\"))\n",
    "# print(\"pdftoppm:\", shutil.which(\"pdftoppm\"))\n",
    "\n",
    "import  subprocess\n",
    "os.environ[\"PATH\"] = r\"C:\\Program Files\\Tesseract-OCR\" + os.pathsep + os.environ.get(\"PATH\",\"\")\n",
    "print(\"tesseract:\", shutil.which(\"tesseract\"))\n",
    "print(subprocess.check_output([\"tesseract\", \"--version\"], text=True))\n"
   ]
  },
  {
   "cell_type": "code",
   "execution_count": null,
   "id": "d1f6bac8",
   "metadata": {},
   "outputs": [],
   "source": [
    "#DataIngestion\n",
    "from langchain_community.document_loaders import UnstructuredPDFLoader\n",
    "loader=UnstructuredPDFLoader(\"panchtantra.pdf\",strategy=\"hi_res\",ocr_languages=\"eng\", extract_images_in_pdf=True)\n",
    "\n",
    "docs=loader.load()   \n"
   ]
  },
  {
   "cell_type": "code",
   "execution_count": null,
   "id": "a5a653a1",
   "metadata": {},
   "outputs": [],
   "source": [
    "#Breaking into chunks\n",
    "from langchain.text_splitter import RecursiveCharacterTextSplitter\n",
    "chunks=RecursiveCharacterTextSplitter(chunk_size=1000,chunk_overlap=200)\n",
    "pdf_documents=chunks.split_documents(docs)\n",
    "pdf_documents"
   ]
  },
  {
   "cell_type": "code",
   "execution_count": null,
   "id": "078258bc",
   "metadata": {},
   "outputs": [],
   "source": [
    "#Creating llm\n",
    "\n",
    "from langchain_google_genai import ChatGoogleGenerativeAI\n",
    "llm=ChatGoogleGenerativeAI(model=\"gemini-2.5-flash\")\n",
    "llm"
   ]
  },
  {
   "cell_type": "code",
   "execution_count": null,
   "id": "93e7ae4e",
   "metadata": {},
   "outputs": [],
   "source": [
    "#prompt\n",
    "from langchain_core.prompts import ChatPromptTemplate\n",
    "prompt=ChatPromptTemplate.from_template(\n",
    "    \"\"\"\n",
    "    Answer the following question based only on the provided context. \n",
    "    Think step by step before providing a detailed answer.kwargs\n",
    "    <context>\n",
    "    {context}\n",
    "    </context>\n",
    "    Question:{input}\n",
    "    \n",
    "    \"\"\"\n",
    "    \n",
    ")"
   ]
  },
  {
   "cell_type": "code",
   "execution_count": null,
   "id": "89b260f8",
   "metadata": {},
   "outputs": [],
   "source": [
    "#combining llm + prompt using chains\n",
    "from langchain.chains.combine_documents import create_stuff_documents_chain\n",
    "chain=create_stuff_documents_chain(llm,prompt)"
   ]
  },
  {
   "cell_type": "code",
   "execution_count": null,
   "id": "bdbd1a81",
   "metadata": {},
   "outputs": [],
   "source": [
    "#Chunks->embeddings and storing in db\n",
    "from langchain_google_genai import GoogleGenerativeAIEmbeddings\n",
    "from langchain_community.vectorstores import Chroma\n",
    "\n",
    "db=Chroma.from_documents(pdf_documents,GoogleGenerativeAIEmbeddings(model=\"models/gemini-embedding-001\"))\n",
    "\n",
    "retriever=db.as_retriever()\n",
    "retriever\n"
   ]
  },
  {
   "cell_type": "code",
   "execution_count": null,
   "id": "f626a7c5",
   "metadata": {},
   "outputs": [],
   "source": [
    "# Combining chain(llm+prompt) + retriever\n",
    "from langchain.chains import create_retrieval_chain\n",
    "retriever_chain=create_retrieval_chain(retriever,chain)"
   ]
  },
  {
   "cell_type": "code",
   "execution_count": null,
   "id": "01db474f",
   "metadata": {},
   "outputs": [],
   "source": [
    "response=retriever_chain.invoke({\"input\":\"What happened in the the jackal and the war drum?\"})\n",
    "response['answer']"
   ]
  }
 ],
 "metadata": {
  "kernelspec": {
   "display_name": "Python 3.12 (py312)",
   "language": "python",
   "name": "py312"
  },
  "language_info": {
   "codemirror_mode": {
    "name": "ipython",
    "version": 3
   },
   "file_extension": ".py",
   "mimetype": "text/x-python",
   "name": "python",
   "nbconvert_exporter": "python",
   "pygments_lexer": "ipython3",
   "version": "3.12.6"
  }
 },
 "nbformat": 4,
 "nbformat_minor": 5
}
